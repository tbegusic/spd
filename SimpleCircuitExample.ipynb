{
 "cells": [
  {
   "cell_type": "code",
   "execution_count": 1,
   "id": "e841b08d",
   "metadata": {},
   "outputs": [],
   "source": [
    "from spd.OperatorSequence import *\n",
    "from spd.SparsePauliDynamics import *\n",
    "from qiskit.quantum_info import PauliList\n",
    "import numpy as np"
   ]
  },
  {
   "cell_type": "markdown",
   "id": "d9b69a10",
   "metadata": {},
   "source": [
    "### Simple example with 5 qubits\n",
    "\n",
    "The circuit is U = (A * B)^3.\n",
    "Observable is ZZIII.\n",
    "A is composed of 5 Pauli rotation gates e^(-i theta * P / 2), where P are\n",
    "YYIYI, IYYII, IIYIY, IYYYI, YIYII.\n",
    "B is composed of 5 single qubit rotations around Z (ZIIII, IZIII, ...).\n",
    "We order the operations by their order of acting on the observable in the Heisenberg picture, not by the action on the state \n",
    "(i.e., the first operator is the first one applied to the observable).\n",
    "\n",
    "Rotation angles are all equal to 1.7. In our code we do not store theta, but theta/2 (i.e. coefficients c are stored and Pauli rotation gates are e^(-i * c * P)).\n",
    "So the coefficients are 0.85 and must be provided as a list (of size n_layers, which is in this case 3 steps x 2 layers per step = 6) of lists \n",
    "(each list is of the size of the number of Pauli operators in a given layer).\n",
    "Here, each layer contains 5 Pauli rotation gates, so the coefficients are provided as a list of 6 lists of lengths equal to 5.\n",
    "\n",
    "OperatorSequence is a class that stores the circuit composed of Pauli rotation gates (it stores the lists of coefficients and Pauli operators).\n",
    "Pauli operators are provided as a list of Qiskit's PauliList objects. PauliList objects can have different numbers of Paulis in principle (here they all contain 5 Paulis).\n",
    "\n",
    "Once we have set up the observable and the OperatorSequence, we can initialize SPD Simulation (from SparsePauliDynamics module).\n",
    "Simulation takes as input the observable, operator sequence, number of layers in the operator sequence (in our case 6), and a threshold (set to zero for exact simulation).\n",
    "Once we have an instance sim of Simulation, we can run it with sim.run(), which will return the expectation value\n",
    "<0| U^dag O U |0>, where U is our circuit defined by a sequence of Pauli rotation gates. It is returned as a complex number, although in most applications this will be a real number.\n"
   ]
  },
  {
   "cell_type": "code",
   "execution_count": 2,
   "id": "43d874aa",
   "metadata": {},
   "outputs": [],
   "source": [
    "nq = 5\n",
    "nsteps = 3\n",
    "obs = PauliList(['ZZIII'])\n",
    "A_op = PauliList(['YYIYI', 'IYYII', 'IIYIY', 'IYYYI', 'YIYII'])\n",
    "B_op = PauliList(['ZIIII', 'IZIII', 'IIZII', 'IIIZI', 'IIIIZ'])\n",
    "ops = [A_op, B_op]  * nsteps\n",
    "coeffs = [[0.85 for _ in range(nq)] for i in range(2*nsteps)] \n",
    "op_seq = OperatorSequence(ops, coeffs).to_sparse_pauli_list()"
   ]
  },
  {
   "cell_type": "code",
   "execution_count": 3,
   "id": "c9c9f85f",
   "metadata": {},
   "outputs": [],
   "source": [
    "sim = Simulation.from_pauli_list(obs, op_seq, threshold=0.0)\n",
    "assert(np.allclose(sim.run_circuit(), (0.005222428557558277+0j)))"
   ]
  },
  {
   "cell_type": "code",
   "execution_count": 4,
   "id": "8ed627e2",
   "metadata": {},
   "outputs": [],
   "source": [
    "sim = Simulation.from_pauli_list(obs, op_seq, threshold=0.0001)\n",
    "assert(np.allclose(sim.run_circuit(), (0.005074072851170014-6.95027693594331e-18j)))"
   ]
  },
  {
   "cell_type": "markdown",
   "id": "0a3ca303",
   "metadata": {},
   "source": [
    "### Clifford transformation\n",
    "\n",
    "Before running the calculation, we can transform the angles to bring them into the range [-pi/4, pi/4] (or in the notation of the code, coefficients will be [-pi/8, pi/8]).\n",
    "This is done at the OperatorSequence level using the reduce_clifford function. It will transform all the Pauli rotation gates inside and also store the Clifford operators\n",
    "in clifford_ops. Then, the Clifford layer can be applied to the observable and now we are again left only with non-Clifford Pauli rotation gates that can be simulated with SPD.\n",
    "\n",
    "As shown below, this procedure does not change the final results, but could affect the speed when using a non-zero threshold because it will minimize the number of insertions/deletions of Paulis."
   ]
  },
  {
   "cell_type": "code",
   "execution_count": 5,
   "id": "fd85aa51",
   "metadata": {},
   "outputs": [],
   "source": [
    "q = 5\n",
    "nsteps = 3\n",
    "obs = PauliList(['ZZIII'])\n",
    "A_op = PauliList(['YYIYI', 'IYYII', 'IIYIY', 'IYYYI', 'YIYII'])\n",
    "B_op = PauliList(['ZIIII', 'IZIII', 'IIZII', 'IIIZI', 'IIIIZ'])\n",
    "ops = [A_op, B_op]*nsteps \n",
    "coeffs = [[0.85 for _ in range(nq)] for i in range(2*nsteps)] \n",
    "op_seq = OperatorSequence(ops, coeffs)\n",
    "op_seq.reduce_clifford()\n",
    "obs = op_seq.clifford_ops.apply_to_PauliList(obs)\n",
    "op_seq = op_seq.to_sparse_pauli_list()"
   ]
  },
  {
   "cell_type": "code",
   "execution_count": 6,
   "id": "08a5a192",
   "metadata": {},
   "outputs": [],
   "source": [
    "sim = Simulation.from_pauli_list(obs, op_seq, threshold=0.0)\n",
    "assert(np.allclose(sim.run_circuit(), (0.0052224285575582854+1.528991154698683e-17j)))"
   ]
  },
  {
   "cell_type": "code",
   "execution_count": 7,
   "id": "7006d9ca",
   "metadata": {},
   "outputs": [],
   "source": [
    "sim = Simulation.from_pauli_list(obs, op_seq, threshold=0.0001)\n",
    "assert(np.allclose(sim.run_circuit(), (0.0050740728511700275-7.12841280550884e-17j)))"
   ]
  }
 ],
 "metadata": {
  "kernelspec": {
   "display_name": "Python 3 (ipykernel)",
   "language": "python",
   "name": "python3"
  },
  "language_info": {
   "codemirror_mode": {
    "name": "ipython",
    "version": 3
   },
   "file_extension": ".py",
   "mimetype": "text/x-python",
   "name": "python",
   "nbconvert_exporter": "python",
   "pygments_lexer": "ipython3",
   "version": "3.12.3"
  }
 },
 "nbformat": 4,
 "nbformat_minor": 5
}
