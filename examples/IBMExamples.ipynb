{
 "cells": [
  {
   "attachments": {},
   "cell_type": "markdown",
   "id": "1802dc12",
   "metadata": {},
   "source": [
    "# Heavy Hexagon model and examples from Kim et al., Nature, 618, 500 (2023).\n",
    "## Reproduces results of Fig 3 of Begusic, Gray, Chan, Sci. Adv. 10, eadk4321 (2024). \n",
    "Reference data available at https://github.com/tbegusic/arxiv-2308.05077-data.git in file spd_10.csv."
   ]
  },
  {
   "cell_type": "code",
   "execution_count": null,
   "id": "e841b08d",
   "metadata": {},
   "outputs": [],
   "source": [
    "import sys\n",
    "sys.path.append('../')\n",
    "from spd.extras.HeavyHexUtils import *\n",
    "from spd.OperatorSequence import *\n",
    "from spd.SparsePauliDynamics import *\n",
    "from qiskit.quantum_info import PauliList\n",
    "import matplotlib.pyplot as plt\n",
    "from copy import deepcopy\n",
    "import pickle"
   ]
  },
  {
   "cell_type": "code",
   "execution_count": null,
   "id": "45965556",
   "metadata": {},
   "outputs": [],
   "source": [
    "nq = 127\n",
    "n_zz = 144\n",
    "coupling_map = coupling_list()"
   ]
  },
  {
   "attachments": {},
   "cell_type": "markdown",
   "id": "5264be10",
   "metadata": {},
   "source": [
    "### Perform Clifford and angle transformation (only once and store resulting observables and circuits)\n",
    "Next four cells can be commented out after Clifford transformed information is stored."
   ]
  },
  {
   "cell_type": "code",
   "execution_count": null,
   "id": "471303d0",
   "metadata": {},
   "outputs": [],
   "source": [
    "#5-step examples of Fig 3a-c\n",
    "n_layers = 5\n",
    "#Magnetization, weight-10 and weight-17 observables.\n",
    "observables = [\n",
    "    PauliList([pauli_op([i], nq, 'Z') for i in range(nq)]), \n",
    "    PauliList([pauli_op_XYZ([[13, 29, 31], [9, 30], [8, 12, 17, 28, 32]], nq)]), \n",
    "    PauliList([pauli_op_XYZ([[37, 41, 52, 56, 57, 58, 62, 79], [75], [38, 40, 42, 63, 72, 80, 90, 91]], nq)]) \n",
    "    ]\n",
    "\n",
    "#For theta_h < pi/4 (transform with ZZ Cliffords and keep only non-Clifford operators)\n",
    "op_seq_prep = op_seq_layers(n_layers, coupling_map, 0.0, nq, n_zz)\n",
    "op_seq_prep.reduce_clifford()\n",
    "ops_small_angle_5steps = extract_non_clifford(op_seq_prep)\n",
    "observables_small_angle_5steps = [op_seq_prep.clifford_ops.apply_to_PauliList(obs) for obs in observables]\n",
    "\n",
    "#For theta_h > pi/4 (in addition, do the angle transformation to transform all angles back to )\n",
    "op_seq_prep = OperatorSequence(deepcopy(ops_small_angle_5steps), [[1.5*np.pi/8]*nq]*n_layers) #Using a dummy coefficient > pi/8 to invoke an angle transformation.\n",
    "op_seq_prep.reduce_clifford()\n",
    "ops_large_angle_5steps = op_seq_prep.ops\n",
    "observables_large_angle_5steps = [op_seq_prep.clifford_ops.apply_to_PauliList(obs) for obs in observables_small_angle_5steps]"
   ]
  },
  {
   "cell_type": "code",
   "execution_count": null,
   "id": "6695d738",
   "metadata": {},
   "outputs": [],
   "source": [
    "#5+1-step example of Fig 3d\n",
    "n_layers = 5\n",
    "observable = PauliList([pauli_op_XYZ([[37, 41, 52, 56, 57, 58, 62, 79], [38, 40, 42, 63, 72, 80, 90, 91], [75]], nq)]) \n",
    "\n",
    "#For theta_h < pi/4\n",
    "op_seq_prep = op_seq_layers_3d(n_layers, coupling_map, 0.0, nq, n_zz)\n",
    "op_seq_prep.reduce_clifford()\n",
    "ops_small_angle_3d = extract_non_clifford_3d(op_seq_prep)\n",
    "observable_small_angle_3d = op_seq_prep.clifford_ops.apply_to_PauliList(observable)\n",
    "#For theta_h > pi/4\n",
    "op_seq_prep = OperatorSequence(deepcopy(ops_small_angle_3d), [[1.5*np.pi/8]*nq]*(n_layers+1)) #Using a dummy coefficient > pi/8 to invoke an angle transformation.\n",
    "op_seq_prep.reduce_clifford()\n",
    "ops_large_angle_3d = op_seq_prep.ops\n",
    "observable_large_angle_3d = op_seq_prep.clifford_ops.apply_to_PauliList(observable_small_angle_3d)"
   ]
  },
  {
   "cell_type": "code",
   "execution_count": null,
   "id": "ea7c2214",
   "metadata": {},
   "outputs": [],
   "source": [
    "#20-step example of Fig 3e\n",
    "n_layers = 20\n",
    "observable = PauliList([pauli_op_XYZ([[], [], [62]], nq)])\n",
    "\n",
    "#For theta_h < pi/4\n",
    "op_seq_prep = op_seq_layers(n_layers, coupling_map, 0.0, nq, n_zz)\n",
    "op_seq_prep.reduce_clifford()\n",
    "ops_small_angle_3e = extract_non_clifford(op_seq_prep)\n",
    "observable_small_angle_3e = op_seq_prep.clifford_ops.apply_to_PauliList(observable)\n",
    "#For theta_h > pi/4\n",
    "op_seq_prep = OperatorSequence(deepcopy(ops_small_angle_3e), [[1.5*np.pi/8]*nq]*n_layers) #Using a dummy coefficient > pi/8 to invoke an angle transformation.\n",
    "op_seq_prep.reduce_clifford()\n",
    "ops_large_angle_3e = op_seq_prep.ops\n",
    "observable_large_angle_3e = op_seq_prep.clifford_ops.apply_to_PauliList(observable_small_angle_3e)"
   ]
  },
  {
   "cell_type": "code",
   "execution_count": null,
   "id": "dde78599",
   "metadata": {},
   "outputs": [],
   "source": [
    "observables_small_angle = {k:v for k,v in zip(['3a', '3b', '3c', '3d', '3e'], observables_small_angle_5steps + [observable_small_angle_3d, observable_small_angle_3e])}\n",
    "observables_large_angle = {k:v for k,v in zip(['3a', '3b', '3c', '3d', '3e'], observables_large_angle_5steps + [observable_large_angle_3d, observable_large_angle_3e])}\n",
    "ops_small_angle = {k:v for k,v in zip(['3a', '3b', '3c', '3d', '3e'], [ops_small_angle_5steps]*3 + [ops_small_angle_3d, ops_small_angle_3e])}\n",
    "ops_large_angle = {k:v for k,v in zip(['3a', '3b', '3c', '3d', '3e'], [ops_large_angle_5steps]*3 + [ops_large_angle_3d, ops_large_angle_3e])}\n",
    "\n",
    "with open('clifford_transforms.pkl', 'wb') as f:\n",
    "    pickle.dump([ops_small_angle, ops_large_angle, observables_small_angle, observables_large_angle], f)"
   ]
  },
  {
   "cell_type": "markdown",
   "id": "6095fa2f",
   "metadata": {},
   "source": [
    "### Import Clifford transforms if the code above is commented out."
   ]
  },
  {
   "cell_type": "code",
   "execution_count": null,
   "id": "56466abb",
   "metadata": {},
   "outputs": [],
   "source": [
    "with open('clifford_transforms.pkl', 'rb') as f:\n",
    "    ops_small_angle, ops_large_angle, observables_small_angle, observables_large_angle = pickle.load(f)"
   ]
  },
  {
   "attachments": {},
   "cell_type": "markdown",
   "id": "7ccaff44",
   "metadata": {},
   "source": [
    "### From Figure 3a"
   ]
  },
  {
   "cell_type": "code",
   "execution_count": null,
   "id": "1a566309",
   "metadata": {},
   "outputs": [],
   "source": [
    "nsteps = 5\n",
    "coeffs_list = np.array([i*np.pi/64 for i in range(17)])\n",
    "exp = []\n",
    "for i, theta in enumerate(coeffs_list):\n",
    "    if i<9:\n",
    "        observable = observables_small_angle['3a']\n",
    "        op_seq = OperatorSequence(ops_small_angle['3a'], [[theta]*nq]*nsteps).to_sparse_pauli_list()\n",
    "    else:\n",
    "        observable = observables_large_angle['3a']\n",
    "        op_seq = OperatorSequence(ops_large_angle['3a'], [[theta-np.pi/4]*nq]*nsteps).to_sparse_pauli_list()\n",
    "    e = np.real(Simulation.evolve_pauli_sum(observable, op_seq, threshold=0.001, progress_bar=False))/nq\n",
    "    exp.append(e)\n",
    "    print(i, e)"
   ]
  },
  {
   "cell_type": "code",
   "execution_count": null,
   "id": "3df1e49d",
   "metadata": {},
   "outputs": [],
   "source": [
    "fig, ax = plt.subplots(figsize=(4.5,3.8))\n",
    "ax.plot(coeffs_list*2/np.pi, exp)\n",
    "ax.set_xlim(0, 1/2)\n",
    "ax.set_xlabel(r'$\\theta / \\pi$')\n",
    "plt.show()"
   ]
  },
  {
   "attachments": {},
   "cell_type": "markdown",
   "id": "c71947eb",
   "metadata": {},
   "source": [
    "### From Figure 3b"
   ]
  },
  {
   "cell_type": "code",
   "execution_count": null,
   "id": "738ecfd3",
   "metadata": {},
   "outputs": [],
   "source": [
    "nsteps = 5\n",
    "coeffs_list = np.array([i*np.pi/64 for i in range(17)])\n",
    "exp = []\n",
    "for i, theta in enumerate(coeffs_list):\n",
    "    if i<9:\n",
    "        observable = observables_small_angle['3b']\n",
    "        op_seq = OperatorSequence(ops_small_angle['3b'], [[theta]*nq]*nsteps).to_sparse_pauli_list()\n",
    "    else:\n",
    "        observable = observables_large_angle['3b']\n",
    "        op_seq = OperatorSequence(ops_large_angle['3b'], [[theta-np.pi/4]*nq]*nsteps).to_sparse_pauli_list()\n",
    "    e = np.real(Simulation.evolve_pauli_sum(observable, op_seq, threshold=0.00015, progress_bar=False))\n",
    "    exp.append(e)\n",
    "    print(i, e)"
   ]
  },
  {
   "cell_type": "code",
   "execution_count": null,
   "id": "f0aa1612",
   "metadata": {},
   "outputs": [],
   "source": [
    "fig, ax = plt.subplots(figsize=(4.5,3.8))\n",
    "ax.plot(coeffs_list*2/np.pi, exp)\n",
    "ax.set_xlim(0, 1/2)\n",
    "ax.set_xlabel(r'$\\theta / \\pi$')\n",
    "plt.show()"
   ]
  },
  {
   "attachments": {},
   "cell_type": "markdown",
   "id": "3382df6b",
   "metadata": {},
   "source": [
    "### From Figure 3c"
   ]
  },
  {
   "cell_type": "code",
   "execution_count": null,
   "id": "ca775973",
   "metadata": {},
   "outputs": [],
   "source": [
    "nsteps = 5\n",
    "coeffs_list = np.array([i*np.pi/64 for i in range(17)])\n",
    "exp = []\n",
    "for i, theta in enumerate(coeffs_list):\n",
    "    if i<9:\n",
    "        observable = observables_small_angle['3c']\n",
    "        op_seq = OperatorSequence(ops_small_angle['3c'], [[theta]*nq]*nsteps).to_sparse_pauli_list()\n",
    "    else:\n",
    "        observable = observables_large_angle['3c']\n",
    "        op_seq = OperatorSequence(ops_large_angle['3c'], [[theta-np.pi/4]*nq]*nsteps).to_sparse_pauli_list()\n",
    "    e = np.real(Simulation.evolve_pauli_sum(observable, op_seq, threshold=0.00035, progress_bar=False))\n",
    "    exp.append(e)\n",
    "    print(i, e)"
   ]
  },
  {
   "cell_type": "code",
   "execution_count": null,
   "id": "64a322ee",
   "metadata": {},
   "outputs": [],
   "source": [
    "fig, ax = plt.subplots(figsize=(4.5,3.8))\n",
    "ax.plot(coeffs_list*2/np.pi, -1 * np.array(exp))\n",
    "ax.set_xlim(0, 1/2)\n",
    "ax.set_xlabel(r'$\\theta / \\pi$')\n",
    "plt.show()"
   ]
  },
  {
   "attachments": {},
   "cell_type": "markdown",
   "id": "be132a74",
   "metadata": {},
   "source": [
    "### From Figure 3d"
   ]
  },
  {
   "cell_type": "code",
   "execution_count": null,
   "id": "7fd514b5",
   "metadata": {},
   "outputs": [],
   "source": [
    "nsteps = 6\n",
    "coeffs_list = np.array([i*np.pi/64 for i in range(17)])\n",
    "exp = []\n",
    "for i, theta in enumerate(coeffs_list):\n",
    "    if i<9:\n",
    "        observable = observables_small_angle['3d']\n",
    "        op_seq = OperatorSequence(ops_small_angle['3d'], [[theta]*nq]*nsteps).to_sparse_pauli_list()\n",
    "    else:\n",
    "        observable = observables_large_angle['3d']\n",
    "        op_seq = OperatorSequence(ops_large_angle['3d'], [[theta-np.pi/4]*nq]*nsteps).to_sparse_pauli_list()\n",
    "    e = np.real(Simulation.evolve_pauli_sum(observable, op_seq, threshold=0.00035, progress_bar=False))\n",
    "    exp.append(e)\n",
    "    print(i, e)"
   ]
  },
  {
   "cell_type": "code",
   "execution_count": null,
   "id": "a73e963b",
   "metadata": {},
   "outputs": [],
   "source": [
    "fig, ax = plt.subplots(figsize=(4.5,3.8))\n",
    "ax.plot(coeffs_list*2/np.pi, -1 * np.array(exp))\n",
    "ax.set_xlim(0, 1/2)\n",
    "ax.set_xlabel(r'$\\theta / \\pi$')\n",
    "plt.show()"
   ]
  },
  {
   "cell_type": "markdown",
   "id": "d5c3eb60",
   "metadata": {},
   "source": [
    "### From Figure 3e"
   ]
  },
  {
   "cell_type": "code",
   "execution_count": null,
   "id": "3820c86c",
   "metadata": {},
   "outputs": [],
   "source": [
    "nsteps = 20\n",
    "coeffs_list = np.array([i*np.pi/64 for i in range(17)])\n",
    "exp = []\n",
    "for i, theta in enumerate(coeffs_list):\n",
    "    if i<9:\n",
    "        observable = observables_small_angle['3e']\n",
    "        op_seq = OperatorSequence(ops_small_angle['3e'], [[theta]*nq]*nsteps).to_sparse_pauli_list()\n",
    "    else:\n",
    "        observable = observables_large_angle['3e']\n",
    "        op_seq = OperatorSequence(ops_large_angle['3e'], [[theta-np.pi/4]*nq]*nsteps).to_sparse_pauli_list()\n",
    "    e = np.real(Simulation.evolve_pauli_sum(observable, op_seq, threshold=0.0008, progress_bar=False))\n",
    "    exp.append(e)\n",
    "    print(i, e)"
   ]
  },
  {
   "cell_type": "code",
   "execution_count": null,
   "id": "e4ef4429",
   "metadata": {},
   "outputs": [],
   "source": [
    "fig, ax = plt.subplots(figsize=(4.5,3.8))\n",
    "ax.plot(coeffs_list*2/np.pi, 1 * np.array(exp))\n",
    "ax.set_xlim(0, 1/2)\n",
    "ax.set_xlabel(r'$\\theta / \\pi$')\n",
    "plt.show()"
   ]
  }
 ],
 "metadata": {
  "kernelspec": {
   "display_name": "Python 3 (ipykernel)",
   "language": "python",
   "name": "python3"
  },
  "language_info": {
   "codemirror_mode": {
    "name": "ipython",
    "version": 3
   },
   "file_extension": ".py",
   "mimetype": "text/x-python",
   "name": "python",
   "nbconvert_exporter": "python",
   "pygments_lexer": "ipython3",
   "version": "3.12.3"
  }
 },
 "nbformat": 4,
 "nbformat_minor": 5
}
