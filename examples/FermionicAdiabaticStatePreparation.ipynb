{
 "cells": [
  {
   "cell_type": "code",
   "execution_count": 1,
   "id": "e841b08d",
   "metadata": {},
   "outputs": [],
   "source": [
    "import sys\n",
    "sys.path.append('../')\n",
    "\n",
    "from spd.MajoranaRepresentation import MajoranaRepresentation\n",
    "from spd.SparsePauliDynamics import Simulation\n",
    "from spd.utils import *\n",
    "\n",
    "import numpy as np\n",
    "import matplotlib.pyplot as plt\n",
    "from functools import partial\n",
    "\n",
    "from qiskit_nature.second_q.operators import FermionicOp\n",
    "from qiskit_nature.second_q.drivers import PySCFDriver\n",
    "from qiskit_nature.second_q.circuit.library import HartreeFock\n",
    "from qiskit_nature.second_q.mappers import JordanWignerMapper\n",
    "from qiskit_nature.units import DistanceUnit\n",
    "from qiskit_nature.second_q.algorithms import GroundStateEigensolver\n",
    "from qiskit_algorithms import NumPyMinimumEigensolver"
   ]
  },
  {
   "cell_type": "code",
   "execution_count": 2,
   "id": "ec23cb62",
   "metadata": {},
   "outputs": [],
   "source": [
    "driver = PySCFDriver(\n",
    "    atom=\"H 0 0 0; H 0 0 0.735\",\n",
    "    basis=\"sto3g\",\n",
    "    charge=0,\n",
    "    spin=0,\n",
    "    unit=DistanceUnit.ANGSTROM,\n",
    ")\n",
    "problem = driver.run()\n",
    "hamiltonian = problem.hamiltonian.second_q_op()\n",
    "obs = hamiltonian\n",
    "hamiltonian0 = FermionicOp.from_terms([term for term in problem.hamiltonian.second_q_op().terms() if len(term[0])==2])\n",
    "hamiltonian1 = (hamiltonian - hamiltonian0).simplify()\n",
    "\n",
    "dt = 0.01\n",
    "nsteps = 1000\n",
    "threshold = 0"
   ]
  },
  {
   "cell_type": "code",
   "execution_count": 3,
   "id": "27129b9f",
   "metadata": {},
   "outputs": [],
   "source": [
    "observable = MajoranaRepresentation.from_fermionic_op(obs)\n",
    "h0 = MajoranaRepresentation.fermionic_to_sparse_pauli_op(hamiltonian0)\n",
    "h1 = MajoranaRepresentation.fermionic_to_sparse_pauli_op(hamiltonian1)\n",
    "hf_state = np.array(HartreeFock(problem.num_spatial_orbitals, problem.num_particles, JordanWignerMapper())._bitstr)\n",
    "\n",
    "def ham_func(step):\n",
    "    return dt * (h0 + (1-(step+1)/nsteps) * h1)\n",
    "def eval_exp_val(obs):\n",
    "    return partial(MajoranaRepresentation.exp_val_comp_basis_state, state=hf_state)(obs)\n",
    "\n",
    "sim = Simulation(observable, dt*h0, threshold=threshold)\n",
    "r_majorana = sim.run_dynamics(nsteps, process=eval_exp_val, process_every=1, td_ham=ham_func)"
   ]
  },
  {
   "cell_type": "code",
   "execution_count": 4,
   "id": "a5a1a9f0",
   "metadata": {},
   "outputs": [],
   "source": [
    "energy_asp = r_majorana[-1] + problem.hamiltonian.nuclear_repulsion_energy"
   ]
  },
  {
   "cell_type": "markdown",
   "id": "56b8f9b7",
   "metadata": {},
   "source": [
    "## Exact simulation"
   ]
  },
  {
   "cell_type": "code",
   "execution_count": 5,
   "id": "387b1385",
   "metadata": {},
   "outputs": [],
   "source": [
    "mapper = JordanWignerMapper()\n",
    "algo = NumPyMinimumEigensolver()\n",
    "algo.filter_criterion = problem.get_default_filter_criterion()\n",
    "solver = GroundStateEigensolver(mapper, algo)\n",
    "result = solver.solve(problem)\n",
    "energy_exact = result.total_energies[0]"
   ]
  },
  {
   "cell_type": "markdown",
   "id": "df72eedd",
   "metadata": {},
   "source": [
    "## Compare"
   ]
  },
  {
   "cell_type": "code",
   "execution_count": 6,
   "id": "d9098302",
   "metadata": {},
   "outputs": [
    {
     "data": {
      "text/plain": [
       "(0.0002725567817796204+0j)"
      ]
     },
     "execution_count": 6,
     "metadata": {},
     "output_type": "execute_result"
    }
   ],
   "source": [
    "energy_asp - energy_exact"
   ]
  }
 ],
 "metadata": {
  "kernelspec": {
   "display_name": "Python 3 (ipykernel)",
   "language": "python",
   "name": "python3"
  },
  "language_info": {
   "codemirror_mode": {
    "name": "ipython",
    "version": 3
   },
   "file_extension": ".py",
   "mimetype": "text/x-python",
   "name": "python",
   "nbconvert_exporter": "python",
   "pygments_lexer": "ipython3",
   "version": "3.12.2"
  }
 },
 "nbformat": 4,
 "nbformat_minor": 5
}
