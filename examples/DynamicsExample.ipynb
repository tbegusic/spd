{
 "cells": [
  {
   "cell_type": "markdown",
   "id": "d8ec472b",
   "metadata": {},
   "source": [
    "## Example from Rakovszky et al. PRB 105, 075131 (2022).\n",
    "Figure 2b, L = 21."
   ]
  },
  {
   "cell_type": "code",
   "execution_count": null,
   "id": "e841b08d",
   "metadata": {},
   "outputs": [],
   "source": [
    "import sys\n",
    "sys.path.append('../')\n",
    "from spd.OperatorSequence import *\n",
    "from spd.SparsePauliDynamics import *\n",
    "from spd.SparsePauliDynamics_Continuous import *\n",
    "from qiskit.quantum_info import *\n",
    "import matplotlib.pyplot as plt"
   ]
  },
  {
   "cell_type": "code",
   "execution_count": null,
   "id": "bfe5cde9",
   "metadata": {},
   "outputs": [],
   "source": [
    "gx = 1.4\n",
    "gz = 0.9045\n",
    "nsites = 21\n",
    "hx = SparsePauliOp.from_sparse_list([('X', [i], gx) for i in range(nsites)], num_qubits=nsites)\n",
    "hz = SparsePauliOp.from_sparse_list([('Z', [i], gz) for i in range(nsites)], num_qubits=nsites)\n",
    "hzz = SparsePauliOp.from_sparse_list([('ZZ', [i, i+1], 1.0) for i in range(nsites-1)], num_qubits=nsites)\n",
    "hi = [hx[0] + hz[0] + hzz[0]/2] + [hx[i] + hz[i] + hzz[i-1] / 2 + hzz[i] / 2 for i in range(1, nsites-1)] + [hx[nsites-1] + hz[nsites-1] + hzz[nsites-2]/2]\n",
    "\n",
    "def exp_val_func(observable):\n",
    "    return [observable.overlap(PauliRepresentation.from_sparse_pauli_op(h)) for h in hi]\n",
    "\n",
    "def msd(a):\n",
    "    j = np.arange(1,len(a)+1)\n",
    "    return np.sum(a*j**2) - np.sum(a*j)**2"
   ]
  },
  {
   "cell_type": "code",
   "execution_count": null,
   "metadata": {},
   "outputs": [],
   "source": [
    "dt = 0.01\n",
    "nsteps = 300\n",
    "threshold = 0.0001\n",
    "ops = dt*(hz + hzz + hx)\n",
    "obs = hi[(nsites-1)//2]"
   ]
  },
  {
   "cell_type": "code",
   "execution_count": null,
   "id": "1c27f256",
   "metadata": {},
   "outputs": [],
   "source": [
    "sim = DynamicsSimulation.from_pauli_list(obs, ops, threshold=threshold, nprocs=2)\n",
    "r = sim.run_dynamics(nsteps, process=exp_val_func, process_every = 10, method=\"rk2\")\n",
    "r = np.array(r)\n",
    "r = r / r[0].sum()\n",
    "print(sim.observable.size(), np.linalg.norm(sim.observable.coeffs)/np.linalg.norm(obs.coeffs))\n",
    "d2_rk2 = [msd(ri) for ri in r]"
   ]
  },
  {
   "cell_type": "code",
   "execution_count": null,
   "metadata": {},
   "outputs": [],
   "source": [
    "sim = Simulation.from_pauli_list(obs, ops, threshold=threshold, nprocs=3)\n",
    "r = sim.run_dynamics(nsteps, process=exp_val_func, process_every = 10)\n",
    "r = np.array(r)\n",
    "r = r / r[0].sum()\n",
    "print(sim.observable.size(), np.linalg.norm(sim.observable.coeffs)/np.linalg.norm(obs.coeffs))\n",
    "d2 = [msd(ri) for ri in r]"
   ]
  },
  {
   "cell_type": "code",
   "execution_count": null,
   "id": "ba9a28fb",
   "metadata": {},
   "outputs": [],
   "source": [
    "fig, ax = plt.subplots(1, 1)\n",
    "ax.plot(np.arange(len(d2))/10, abs(np.array(d2)), '-ok')\n",
    "ax.plot(np.arange(len(d2_rk2))/10, abs(np.array(d2_rk2)), '-xr')\n",
    "ax.set_ylim(0, 7)\n",
    "plt.show()"
   ]
  },
  {
   "cell_type": "code",
   "execution_count": null,
   "metadata": {},
   "outputs": [],
   "source": [
    "fig, ax = plt.subplots(1, 1)\n",
    "x = np.arange(len(d2))/10\n",
    "y = np.gradient(abs(np.array(d2)), x)\n",
    "ax.plot(x, y, '-ok')\n",
    "x = np.arange(len(d2_rk2))/10\n",
    "y = np.gradient(abs(np.array(d2_rk2)), x)\n",
    "ax.plot(x, y, '-xr')\n",
    "ax.set_ylim(0, 7)\n",
    "plt.show()"
   ]
  }
 ],
 "metadata": {
  "kernelspec": {
   "display_name": "Python 3 (ipykernel)",
   "language": "python",
   "name": "python3"
  },
  "language_info": {
   "codemirror_mode": {
    "name": "ipython",
    "version": 3
   },
   "file_extension": ".py",
   "mimetype": "text/x-python",
   "name": "python",
   "nbconvert_exporter": "python",
   "pygments_lexer": "ipython3",
   "version": "3.8.5"
  }
 },
 "nbformat": 4,
 "nbformat_minor": 5
}
