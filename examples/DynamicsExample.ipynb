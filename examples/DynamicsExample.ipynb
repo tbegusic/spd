{
 "cells": [
  {
   "cell_type": "markdown",
   "id": "d8ec472b",
   "metadata": {},
   "source": [
    "## Example from Rakovszky et al. PRB 105, 075131 (2022).\n",
    "Figure 2b, L = 21."
   ]
  },
  {
   "cell_type": "code",
   "execution_count": 1,
   "id": "e841b08d",
   "metadata": {},
   "outputs": [],
   "source": [
    "import sys\n",
    "sys.path.append('../')\n",
    "from spd.OperatorSequence import *\n",
    "from spd.SparsePauliDynamics import *\n",
    "from spd.SparsePauliDynamics_Continuous import *\n",
    "from qiskit.quantum_info import *\n",
    "import matplotlib.pyplot as plt"
   ]
  },
  {
   "cell_type": "code",
   "execution_count": 2,
   "id": "bfe5cde9",
   "metadata": {},
   "outputs": [],
   "source": [
    "gx = 1.4\n",
    "gz = 0.9045\n",
    "nsites = 21\n",
    "hx = SparsePauliOp.from_sparse_list([('X', [i], gx) for i in range(nsites)], num_qubits=nsites)\n",
    "hz = SparsePauliOp.from_sparse_list([('Z', [i], gz) for i in range(nsites)], num_qubits=nsites)\n",
    "hzz = SparsePauliOp.from_sparse_list([('ZZ', [i, i+1], 1.0) for i in range(nsites-1)], num_qubits=nsites)\n",
    "hi = [hx[0] + hz[0] + hzz[0]/2] + [hx[i] + hz[i] + hzz[i-1] / 2 + hzz[i] / 2 for i in range(1, nsites-1)] + [hx[nsites-1] + hz[nsites-1] + hzz[nsites-2]/2]\n",
    "\n",
    "def exp_val_func(observable):\n",
    "    return [observable.overlap(PauliRepresentation.from_sparse_pauli_op(h)) for h in hi]\n",
    "\n",
    "def msd(a):\n",
    "    j = np.arange(1,len(a)+1)\n",
    "    return np.sum(a*j**2) - np.sum(a*j)**2"
   ]
  },
  {
   "cell_type": "code",
   "execution_count": 3,
   "metadata": {},
   "outputs": [],
   "source": [
    "dt = 0.01\n",
    "nsteps = 300\n",
    "threshold = 0.0001\n",
    "ops = dt*(hz + hzz + hx)\n",
    "obs = hi[(nsites-1)//2]"
   ]
  },
  {
   "cell_type": "code",
   "execution_count": 4,
   "id": "1c27f256",
   "metadata": {},
   "outputs": [
    {
     "name": "stdout",
     "output_type": "stream",
     "text": [
      "41977 0.9744053762920521\n"
     ]
    }
   ],
   "source": [
    "sim = DynamicsSimulation.from_pauli_list(obs, ops, threshold=threshold, nprocs=4)\n",
    "r = sim.run_dynamics(nsteps, process=exp_val_func, process_every = 10, method='rk4')\n",
    "r = np.array(r)\n",
    "r = r / r[0].sum()\n",
    "print(sim.observable.size(), np.linalg.norm(sim.observable.coeffs)/np.linalg.norm(obs.coeffs))\n",
    "d2_rk4 = [msd(ri) for ri in r]"
   ]
  },
  {
   "cell_type": "code",
   "execution_count": 5,
   "metadata": {},
   "outputs": [
    {
     "name": "stdout",
     "output_type": "stream",
     "text": [
      "216626 0.9764647461741934\n"
     ]
    }
   ],
   "source": [
    "sim = Simulation.from_pauli_list(obs, ops, threshold=threshold, nprocs=4)\n",
    "r = sim.run_dynamics(nsteps, process=exp_val_func, process_every = 10)\n",
    "r = np.array(r)\n",
    "r = r / r[0].sum()\n",
    "print(sim.observable.size(), np.linalg.norm(sim.observable.coeffs)/np.linalg.norm(obs.coeffs))\n",
    "d2 = [msd(ri) for ri in r]"
   ]
  },
  {
   "cell_type": "code",
   "execution_count": 6,
   "id": "ba9a28fb",
   "metadata": {},
   "outputs": [
    {
     "data": {
      "image/png": "[encoded data removed]",
      "text/plain": [
       "<Figure size 640x480 with 1 Axes>"
      ]
     },
     "metadata": {},
     "output_type": "display_data"
    }
   ],
   "source": [
    "fig, ax = plt.subplots(1, 1)\n",
    "ax.plot(np.arange(len(d2))/10, abs(np.array(d2)), '-ok')\n",
    "ax.plot(np.arange(len(d2_rk4))/10, abs(np.array(d2)), '-xr')\n",
    "ax.set_ylim(0, 5)\n",
    "plt.show()"
   ]
  }
 ],
 "metadata": {
  "kernelspec": {
   "display_name": "Python 3 (ipykernel)",
   "language": "python",
   "name": "python3"
  },
  "language_info": {
   "codemirror_mode": {
    "name": "ipython",
    "version": 3
   },
   "file_extension": ".py",
   "mimetype": "text/x-python",
   "name": "python",
   "nbconvert_exporter": "python",
   "pygments_lexer": "ipython3",
   "version": "3.9.12"
  }
 },
 "nbformat": 4,
 "nbformat_minor": 5
}
